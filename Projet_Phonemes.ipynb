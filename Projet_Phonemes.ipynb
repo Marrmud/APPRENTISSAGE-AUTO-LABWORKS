{
  "cells": [
    {
      "cell_type": "markdown",
      "id": "433b0888",
      "metadata": {
        "id": "433b0888"
      },
      "source": [
        "#  Détection de phonèmes par analyse du signal vocal\n",
        "\n",
        "L'objectif de ce TP consiste à détecter et reconnaître les phonèmes  à partir de fichiers sonores au format *.wav* via l'analyse cepstrale.\n",
        "\n",
        "\n",
        "\n",
        "Vous disposez d'une base d'apprentissage et une base de test. Il faut reconnaître tous les phénomènes suivants :\n",
        "$$'a','e','e\\_aigu','e\\_grave','i','o','o\\_ouvert','ou','u'$$\n"
      ]
    },
    {
      "cell_type": "code",
      "execution_count": null,
      "id": "2272a9ec",
      "metadata": {
        "id": "2272a9ec"
      },
      "outputs": [],
      "source": [
        "import matplotlib.pyplot as plt\n",
        "import numpy as np\n",
        "import scipy\n",
        "import sklearn\n",
        "import math\n",
        "import seaborn as sn\n",
        "import pandas as pd"
      ]
    },
    {
      "cell_type": "markdown",
      "id": "55335663",
      "metadata": {
        "id": "55335663"
      },
      "source": [
        "Les lignes de code suivantes permettent de transformer le fichier audio en matrice de paramètres appélés MFCC (Mel Frequency Cepstral Coefficient) en utilisant la librairie python *librosa*. Ces paramètres permettent d'extraire au mieux le contenu vocal fréquenciel du signal audio.\n",
        "\n",
        "Comme chaque fichier a une durée différente, on calcule la moyenne des MFCC sur toutes les fenêtres de discrétisation. \n",
        "\n",
        "La matrice de sortie est composée d'autant de vecteurs lignes que de fichiers audio. Le nombre de colonnes correspond à la dimension du vecteur moyen représentatif des MFCC : ici 13."
      ]
    },
    {
      "cell_type": "code",
      "execution_count": null,
      "id": "1c038e36",
      "metadata": {
        "id": "1c038e36"
      },
      "outputs": [],
      "source": [
        "import librosa"
      ]
    },
    {
      "cell_type": "code",
      "execution_count": null,
      "id": "f24e8bf3",
      "metadata": {
        "colab": {
          "base_uri": "https://localhost:8080/"
        },
        "id": "f24e8bf3",
        "outputId": "446572b2-2e78-420c-ef59-826fcd530f38"
      },
      "outputs": [
        {
          "output_type": "stream",
          "name": "stdout",
          "text": [
            "(90, 13)\n",
            "[0 0 0 0 0 0 0 0 0 0 1 1 1 1 1 1 1 1 1 1 2 2 2 2 2 2 2 2 2 2 3 3 3 3 3 3 3\n",
            " 3 3 3 4 4 4 4 4 4 4 4 4 4 5 5 5 5 5 5 5 5 5 5 6 6 6 6 6 6 6 6 6 6 7 7 7 7\n",
            " 7 7 7 7 7 7 8 8 8 8 8 8 8 8 8 8]\n"
          ]
        }
      ],
      "source": [
        "from os import listdir\n",
        "from os.path import isfile, join\n",
        "fichiers = [f for f in listdir(\"./Data/\")]\n",
        "sort_fichiers = sorted(fichiers)\n",
        "DataMFCC=[]\n",
        "label=[]\n",
        "#print(sort_fichiers)\n",
        "\n",
        "# Calcul des MFCC sur tous les fichiers de la base de données\n",
        "for i in range(len(sort_fichiers)):\n",
        "    # chargement du fichier audio\n",
        "    y, sr = librosa.load(\"./Data/\" + sort_fichiers[i])\n",
        "    mfccBA = librosa.feature.mfcc(y=y, sr=sr, hop_length=1024, htk=True, n_mfcc=13)\n",
        "    # Stockage et calcul du MFCC moyen pour le phonème\n",
        "    DataMFCC.append(np.mean(mfccBA,axis=1))\n",
        "    # Stockage de l'étiquette label\n",
        "    label.append(i//10)\n",
        "\n",
        "DataMFCC=np.asarray(DataMFCC)\n",
        "label=np.asarray(label)\n",
        "print(DataMFCC.shape)\n",
        "print(label)"
      ]
    },
    {
      "cell_type": "code",
      "execution_count": null,
      "id": "194cf15e",
      "metadata": {
        "id": "194cf15e"
      },
      "outputs": [],
      "source": [
        "# Phonème associé à chaque valeur de label\n",
        "Liste_label=['a','e','e\\_aigu','e\\_grave','i','o','o\\_ouvert','ou','u'] "
      ]
    },
    {
      "cell_type": "code",
      "execution_count": null,
      "id": "cdd02a6c",
      "metadata": {
        "id": "cdd02a6c"
      },
      "outputs": [],
      "source": [
        "# Séparation de l'ensemble de données en Base d'apprentissage et base de test\n",
        "from sklearn.model_selection import train_test_split\n",
        "\n",
        "X_train, X_test, y_train, y_test = train_test_split(DataMFCC, label, random_state=0,test_size=0.2)\n",
        "\n",
        "print('Dimension Base d apprentissage :', X_train.shape)\n",
        "print('Dimension Base de test :', X_test.shape)"
      ]
    },
    {
      "cell_type": "markdown",
      "id": "c6b295ee",
      "metadata": {
        "id": "c6b295ee"
      },
      "source": [
        "# Partie I : Classification des phonèmes sans prétraitement \n",
        "\n",
        "Réaliser une classification de ces phonèmes par une méthode d'apprentissage supervisé et une méthode d'apprentissage non supervisé de votre choix en utilisant soit les codes des TP précédents, soit en utilisant la librairie *scikit-learn*.\n",
        "\n",
        "Pour chaque résultat obtenu, calculer la matrice de confusion et utiliser le triangle voyellique présenté ci-après pour interpréter les résultats.\n",
        "\n",
        "## Méthode supervisée  : \n",
        "indiquer quelle est la méthode superviée de votre choix et calculer la matrice de confusion associée. "
      ]
    },
    {
      "cell_type": "code",
      "execution_count": null,
      "id": "55c4e232",
      "metadata": {
        "id": "55c4e232"
      },
      "outputs": [],
      "source": [
        "from sklearn.preprocessing import MinMaxScaler\n",
        "from sklearn.neighbors import KNeighborsClassifier\n",
        "from sklearn.metrics import confusion_matrix\n",
        "#Extraction des k plus grande valeurs\n",
        "indKSorted = np.argsort(X_train, axis=0)[::-1]"
      ]
    },
    {
      "cell_type": "code",
      "execution_count": null,
      "id": "a497e023",
      "metadata": {
        "colab": {
          "base_uri": "https://localhost:8080/",
          "height": 279
        },
        "id": "a497e023",
        "outputId": "582f2275-926e-4f05-fa9d-6e8319d3552a"
      },
      "outputs": [
        {
          "output_type": "display_data",
          "data": {
            "text/plain": [
              "<Figure size 432x288 with 2 Axes>"
            ],
            "image/png": "[encoded data removed]"
          },
          "metadata": {}
        }
      ],
      "source": [
        "k = 9\n",
        "model1 = KNeighborsClassifier(n_neighbors=k, metric= 'euclidean')\n",
        "model1.fit(X_train, y_train)\n",
        "y_pred1 = model1.predict(X_test)\n",
        "# Calcul de la matrice de confusion\n",
        "cf = confusion_matrix(y_test, y_pred1)\n",
        "#print(cf)\n",
        "sn.set(font_scale=1.4)\n",
        "sn.heatmap(cf,cmap=\"Reds\", annot=True, annot_kws={\"size\": 16})\n",
        "plt.show()\n"
      ]
    },
    {
      "cell_type": "markdown",
      "id": "7c3076a4",
      "metadata": {
        "id": "7c3076a4"
      },
      "source": [
        "## Méthode non supervisée\n",
        "`\n",
        "indiquer quelle est la méthode non supervisée de votre choix et calculer la matrice de confusion associée. "
      ]
    },
    {
      "cell_type": "code",
      "execution_count": null,
      "id": "0489dbdb",
      "metadata": {
        "id": "0489dbdb"
      },
      "outputs": [],
      "source": [
        "from sklearn.decomposition import PCA\n",
        "from sklearn.preprocessing import StandardScaler\n",
        "from sklearn.cluster import KMeans "
      ]
    },
    {
      "cell_type": "code",
      "execution_count": null,
      "id": "5b21a95c",
      "metadata": {
        "id": "5b21a95c",
        "colab": {
          "base_uri": "https://localhost:8080/",
          "height": 279
        },
        "outputId": "43cbf83c-9a98-4b0b-c3a7-0a41a1b17238"
      },
      "outputs": [
        {
          "output_type": "display_data",
          "data": {
            "text/plain": [
              "<Figure size 432x288 with 2 Axes>"
            ],
            "image/png": "[encoded data removed]"
          },
          "metadata": {}
        }
      ],
      "source": [
        "# Calcul de la matrice de confusion\n",
        "\n",
        "model2 = KMeans(n_clusters=k, random_state=0).fit(X_train)\n",
        "#print((pca.explained_variance_ratio_.sum())*100)\n",
        "#KMeans\n",
        "y_pred2 = model2.predict(X_test)\n",
        "\n",
        "cf2 = confusion_matrix(y_test, y_pred2)\n",
        "# print(cf2)\n",
        "sn.heatmap(cf2,cmap=\"Greens\", annot=True, annot_kws={\"size\": 16})\n",
        "plt.show()"
      ]
    },
    {
      "cell_type": "markdown",
      "id": "7629a7cc",
      "metadata": {
        "id": "7629a7cc"
      },
      "source": [
        "# Partie II : classification des phonèmes avec prétraitement \n",
        "\n",
        "\n",
        "## Méthode supervisée\n"
      ]
    },
    {
      "cell_type": "code",
      "execution_count": null,
      "id": "9abe851b",
      "metadata": {
        "id": "9abe851b",
        "colab": {
          "base_uri": "https://localhost:8080/"
        },
        "outputId": "1ff5a524-7e41-44d7-a7ea-43ec54b6073b"
      },
      "outputs": [
        {
          "output_type": "stream",
          "name": "stdout",
          "text": [
            "[0.3204281  0.195989   0.13008288 0.09452413 0.0866975  0.0579242\n",
            " 0.04065831 0.03256154]\n"
          ]
        }
      ],
      "source": [
        "#Prétraitement StandardScaler + PCA\n",
        "\n",
        "#Normalisation des données\n",
        "sc = StandardScaler()\n",
        "X_train_sc = sc.fit_transform(X_train)\n",
        "X_test_sc = sc.transform(X_test)\n",
        "#PCA\n",
        "pca = PCA(n_components=0.95)\n",
        "X_train_pc=pca.fit_transform(X_train_sc)\n",
        "X_test_pc=pca.transform(X_test_sc)\n",
        "print(pca.explained_variance_ratio_)"
      ]
    },
    {
      "cell_type": "code",
      "execution_count": null,
      "id": "82d3ef05",
      "metadata": {
        "id": "82d3ef05",
        "colab": {
          "base_uri": "https://localhost:8080/",
          "height": 279
        },
        "outputId": "b6e063a8-8e15-422a-cf89-eaf5c5fcf5af"
      },
      "outputs": [
        {
          "output_type": "display_data",
          "data": {
            "text/plain": [
              "<Figure size 432x288 with 2 Axes>"
            ],
            "image/png": "[encoded data removed]"
          },
          "metadata": {}
        }
      ],
      "source": [
        "model3 = KNeighborsClassifier(n_neighbors=k, metric= 'euclidean')\n",
        "model3.fit(X_train_pc, y_train)\n",
        "y_pred3 = model3.predict(X_test_pc)\n",
        "# Calcul de la matrice de confusion\n",
        "cf3 = confusion_matrix(y_test, y_pred3)\n",
        "sn.heatmap(cf3,cmap=\"Blues\", annot=True, annot_kws={\"size\": 16})\n",
        "plt.show()"
      ]
    },
    {
      "cell_type": "markdown",
      "id": "8af6727e",
      "metadata": {
        "id": "8af6727e"
      },
      "source": [
        "## Méthode non supervisée"
      ]
    },
    {
      "cell_type": "code",
      "execution_count": null,
      "id": "fd9c71b6",
      "metadata": {
        "id": "fd9c71b6",
        "colab": {
          "base_uri": "https://localhost:8080/"
        },
        "outputId": "f750d361-58ee-4433-b0b1-cb256742586b"
      },
      "outputs": [
        {
          "output_type": "stream",
          "name": "stdout",
          "text": [
            "[0.3204281]\n"
          ]
        }
      ],
      "source": [
        "#Prétraitement StandardScaler + PCA\n",
        "#Normalisation des données\n",
        "sc = StandardScaler()\n",
        "X_train_sc = sc.fit_transform(X_train)\n",
        "X_test_sc = sc.transform(X_test)\n",
        "#PCA\n",
        "pca = PCA(n_components=1)\n",
        "X_train_pc=pca.fit_transform(X_train_sc)\n",
        "X_test_pc=pca.transform(X_test_sc)\n",
        "print(pca.explained_variance_ratio_)"
      ]
    },
    {
      "cell_type": "code",
      "execution_count": null,
      "id": "b8b685b5",
      "metadata": {
        "id": "b8b685b5",
        "colab": {
          "base_uri": "https://localhost:8080/",
          "height": 279
        },
        "outputId": "067807cd-a072-4c8c-a7cf-9b74728d2b8e"
      },
      "outputs": [
        {
          "output_type": "display_data",
          "data": {
            "text/plain": [
              "<Figure size 432x288 with 2 Axes>"
            ],
            "image/png": "[encoded data removed]"
          },
          "metadata": {}
        }
      ],
      "source": [
        "#KMeans\n",
        "model4 = KMeans(n_clusters=9,random_state=0).fit(X_train_pc)\n",
        "y_pred4 = model4.predict(X_test_pc)\n",
        "\n",
        "cf4 = confusion_matrix(y_test, y_pred4)\n",
        "\n",
        "sn.heatmap(cf4,cmap=\"YlOrBr\", annot=True, annot_kws={\"size\": 16})\n",
        "plt.show()\n",
        "\n",
        "# Calcul de la matrice de confusion"
      ]
    },
    {
      "cell_type": "markdown",
      "id": "e969504a",
      "metadata": {
        "id": "e969504a"
      },
      "source": [
        "## Partie III : Analyse des résultats \n",
        "\n",
        "Pour chaque résultat obtenu, calculer la matrice de confusion et utiliser le triangle voyellique présenté ci-après pour interpréter les résultats.\n",
        "\n",
        "<img src=\"files/triangle_voyellique.jpg\" width=\"600\" height=\"600\"  >"
      ]
    },
    {
      "cell_type": "code",
      "execution_count": null,
      "id": "957d67c6",
      "metadata": {
        "id": "957d67c6"
      },
      "outputs": [],
      "source": []
    },
    {
      "cell_type": "code",
      "execution_count": null,
      "id": "4e848298",
      "metadata": {
        "id": "4e848298"
      },
      "outputs": [],
      "source": []
    },
    {
      "cell_type": "code",
      "execution_count": null,
      "id": "76582680",
      "metadata": {
        "id": "76582680"
      },
      "outputs": [],
      "source": []
    },
    {
      "cell_type": "code",
      "execution_count": null,
      "id": "528b319d",
      "metadata": {
        "id": "528b319d"
      },
      "outputs": [],
      "source": []
    }
  ],
  "metadata": {
    "kernelspec": {
      "display_name": "Python 3 (ipykernel)",
      "language": "python",
      "name": "python3"
    },
    "language_info": {
      "codemirror_mode": {
        "name": "ipython",
        "version": 3
      },
      "file_extension": ".py",
      "mimetype": "text/x-python",
      "name": "python",
      "nbconvert_exporter": "python",
      "pygments_lexer": "ipython3",
      "version": "3.8.15"
    },
    "colab": {
      "provenance": []
    }
  },
  "nbformat": 4,
  "nbformat_minor": 5
}